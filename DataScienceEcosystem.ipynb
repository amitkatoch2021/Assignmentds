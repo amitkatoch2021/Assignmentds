{
 "cells": [
  {
   "cell_type": "markdown",
   "id": "a311e73a-5580-4bff-bba3-e010073097ae",
   "metadata": {},
   "source": [
    "# Data Science Tools and Ecosystem"
   ]
  },
  {
   "cell_type": "markdown",
   "id": "d1a284a4-5312-46d0-a052-21f34e3fa108",
   "metadata": {},
   "source": [
    "In this notebook, Data Science Tools and Ecosystem are summarized.\n"
   ]
  },
  {
   "cell_type": "markdown",
   "id": "547fb28f-6b54-4239-960f-0f6e6c71fb0f",
   "metadata": {},
   "source": [
    "**Objectives:**\n",
    "\n",
    "- List popular languages for Data Science\n",
    "- Identify commonly used libraries in Data Science\n",
    "- Introduce open-source development environment tools for Jupyter Notebooks\n",
    "- Provide examples of evaluating arithmetic expressions in Python\n",
    "- Convert minutes to hours using Python\n"
   ]
  },
  {
   "cell_type": "markdown",
   "id": "960efda3-173a-482b-9d98-c755538e679b",
   "metadata": {},
   "source": [
    "Some of the popular languages that Data Scientists use are:\n",
    "1. Python\n",
    "2. R\n",
    "3. SQL"
   ]
  },
  {
   "cell_type": "markdown",
   "id": "ad88b575-26f1-4554-93bd-2452cf400d16",
   "metadata": {},
   "source": [
    "Some of the commonly used libraries used by Data Scientists include:\n",
    "1. Pandas (for data manipulation and analysis)\n",
    "2. NumPy (for numerical computations)\n",
    "3. Matplotlib (for data visualization)"
   ]
  },
  {
   "cell_type": "markdown",
   "id": "10db8df3-db5f-4839-930d-2ea05fae7633",
   "metadata": {},
   "source": [
    "Data Science Tools:\n",
    "| Tool         | Description                                                               |\n",
    "|--------------|---------------------------------------------------------------------------|\n",
    "| JupyterLab   | An interactive development environment for working with Jupyter notebooks, code, and data |\n",
    "| VS Code      | A source-code editor with the Jupyter extension for an integrated development experience |\n",
    "| Google Colab | A free Jupyter notebook environment that runs in the cloud               |\n"
   ]
  },
  {
   "cell_type": "markdown",
   "id": "1cf0e9b0-133d-4d1c-80c4-2fa779572de0",
   "metadata": {},
   "source": [
    "### Below are a few examples of evaluating arithmetic expressions in Python\n",
    "\n",
    "# Addition\n",
    "result_add = 5 + 3\n",
    "print(\"Addition: 5 + 3 =\", result_add)\n",
    "\n",
    "# Subtraction\n",
    "result_sub = 10 - 4\n",
    "print(\"Subtraction: 10 - 4 =\", result_sub)\n",
    "\n",
    "# Multiplication\n",
    "result_mul = 7 * 6\n",
    "print(\"Multiplication: 7 * 6 =\", result_mul)\n",
    "\n",
    "\n"
   ]
  },
  {
   "cell_type": "code",
   "execution_count": 3,
   "id": "4efa3b91-1675-40b9-b3a4-5edf4cad53cf",
   "metadata": {},
   "outputs": [
    {
     "data": {
      "text/plain": [
       "17"
      ]
     },
     "execution_count": 3,
     "metadata": {},
     "output_type": "execute_result"
    }
   ],
   "source": [
    "#This a simple arithmetic expression to mutiply then add integers\n",
    "(3*4)+5"
   ]
  },
  {
   "cell_type": "code",
   "execution_count": 4,
   "id": "3ea1064a-9656-4743-9dd0-7f5db31aa3d9",
   "metadata": {},
   "outputs": [
    {
     "name": "stdout",
     "output_type": "stream",
     "text": [
      "200 minutes is equal to 3.3333333333333335 hours\n"
     ]
    }
   ],
   "source": [
    "# This will convert 200 minutes to hours by dividing by 60.\n",
    "minutes = 200\n",
    "hours = minutes / 60\n",
    "print(\"200 minutes is equal to\", hours, \"hours\")\n"
   ]
  },
  {
   "cell_type": "code",
   "execution_count": null,
   "id": "f0bf8c4f-4e91-4c0f-b87a-d8bbced57aaa",
   "metadata": {},
   "outputs": [],
   "source": []
  }
 ],
 "metadata": {
  "kernelspec": {
   "display_name": "Python 3 (ipykernel)",
   "language": "python",
   "name": "python3"
  },
  "language_info": {
   "codemirror_mode": {
    "name": "ipython",
    "version": 3
   },
   "file_extension": ".py",
   "mimetype": "text/x-python",
   "name": "python",
   "nbconvert_exporter": "python",
   "pygments_lexer": "ipython3",
   "version": "3.12.3"
  }
 },
 "nbformat": 4,
 "nbformat_minor": 5
}
